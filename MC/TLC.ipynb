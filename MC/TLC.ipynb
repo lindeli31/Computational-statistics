{
 "cells": [
  {
   "cell_type": "markdown",
   "id": "ca0eba57-a3c6-4c72-8981-10cdc6af102e",
   "metadata": {},
   "source": [
    "uno dei teoremi fondamentali dela statistica  e della probabilità è il teorema del limite centrale e afferma che:\n",
    "siano Xj una serie di v.c i.i.d la somma di queste converge in DISTRIBUZIONE N(nμ, nσ^2), normalizzandola ottieniamo la normale standard.\n",
    "La distribuzione normale emerge naturalmente come risultato del processo di convoluzione di molte variabili casuali indipendenti. Anche se le distribuzioni originali non sono normali, la somma delle variabili tende verso una distribuzione normale per il principio del Teorema del Limite Centrale. Ecco perché:\n",
    "\n",
    "La convoluzione di distribuzioni ripetute tende a \"smussare\" la distribuzione risultante, eliminando eventuali picchi o irregolarità nelle distribuzioni originali.\n",
    "Le probabilità più alte, che si trovano tipicamente attorno alla media delle variabili casuali, si combinano e si sommano tra loro. Questo porta a un accumulo di probabilità attorno alla media, formando un \"picco\" centrale.\n",
    "Allo stesso tempo, le probabilità delle code, che sono più basse, si ridistribuiscono gradualmente, creando le code della distribuzione normale. Il risultato è la caratteristica forma a campana, con la maggior parte delle probabilità concentrate attorno alla media e le code che si estendono simmetricamente.\n",
    "Se le variabili casuali non sono identicamente distribuite, ma non differiscono troppo tra loro in termini di media e varianza, la somma delle convoluzioni delle loro distribuzioni tende ancora a formare una distribuzione a campana, anche se potrebbe richiedere un numero maggiore di variabili per raggiungere una distribuzione simile alla normale.\n",
    "\n",
    "L'idea di base è che la somma di variabili casuali tende a \"livellare\" le differenze tra le singole distribuzioni, perché le componenti estreme di ciascuna distribuzione tendono a cancellarsi a vicenda, mentre le componenti centrali, vicine alla media, si sommano e creano un picco attorno alla media totale. Questo è il motivo per cui la somma di variabili casuali non identicamente distribuite può comunque convergere verso una normale.\n",
    "Esiste un teorema che generalizza il Teorema del Limite Centrale (TLC) per variabili casuali non identicamente distribuite ma indipendenti, ed è conosciuto come il Teorema del Limite Centrale di Lindeberg-Feller."
   ]
  },
  {
   "cell_type": "code",
   "execution_count": null,
   "id": "9aa49e73-16fd-4cf7-aad9-e00f0b7b0793",
   "metadata": {},
   "outputs": [],
   "source": []
  }
 ],
 "metadata": {
  "kernelspec": {
   "display_name": "Python 3 (ipykernel)",
   "language": "python",
   "name": "python3"
  },
  "language_info": {
   "codemirror_mode": {
    "name": "ipython",
    "version": 3
   },
   "file_extension": ".py",
   "mimetype": "text/x-python",
   "name": "python",
   "nbconvert_exporter": "python",
   "pygments_lexer": "ipython3",
   "version": "3.11.4"
  }
 },
 "nbformat": 4,
 "nbformat_minor": 5
}
